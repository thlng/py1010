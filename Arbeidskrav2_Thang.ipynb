{
 "cells": [
  {
   "cell_type": "code",
   "execution_count": 19,
   "id": "9d1b2575-1231-4283-bb36-4d1ab9803b29",
   "metadata": {},
   "outputs": [
    {
     "name": "stdin",
     "output_type": "stream",
     "text": [
      "Hvilket år er du født?  2000\n"
     ]
    },
    {
     "name": "stdout",
     "output_type": "stream",
     "text": [
      "I 2024 fyller du 24 år\n"
     ]
    }
   ],
   "source": [
    "#Oppgave 1\n",
    "#Programmet beregener hvor gammel en person er i 2024.\n",
    "\n",
    "alder = int(input('Hvilket år er du født? ') )\n",
    "alder = 2024 - alder\n",
    "\n",
    "print(\"I 2024 fyller du\", alder, \"år\")\n"
   ]
  },
  {
   "cell_type": "code",
   "execution_count": 39,
   "id": "8eb8f94b-013a-438b-8b48-ba1f1578fcce",
   "metadata": {},
   "outputs": [
    {
     "name": "stdin",
     "output_type": "stream",
     "text": [
      "Skriv inn antall elever: 5\n"
     ]
    },
    {
     "name": "stdout",
     "output_type": "stream",
     "text": [
      "Det må handles inn 2 pizza(er) til festen\n"
     ]
    }
   ],
   "source": [
    "#Oppgave 2\n",
    "#Programmet beregner hvor mange pizzaer som må handles inn. Forutsetter at en elev spiser 1/4 pizza.\n",
    "\n",
    "\n",
    "import math\n",
    "\n",
    "antall_elever = int(input('Skriv inn antall elever:' ))\n",
    "antall_pizza = antall_elever * 0.25\n",
    "\n",
    "print(\"Det må handles inn\", math.ceil(antall_pizza), \"pizza(er) til festen\")\n"
   ]
  },
  {
   "cell_type": "code",
   "execution_count": 53,
   "id": "9c950bd5-83c8-45e4-9204-1d0d3e48bc8c",
   "metadata": {},
   "outputs": [
    {
     "name": "stdin",
     "output_type": "stream",
     "text": [
      "Skriv inn gradtallet: 60\n"
     ]
    },
    {
     "name": "stdout",
     "output_type": "stream",
     "text": [
      "60.0 grader tilsvarer 1.0471975511965976 radianer\n"
     ]
    }
   ],
   "source": [
    "#Oppgave 3\n",
    "#Programmet regner om fra grader til radianer.\n",
    "\n",
    "import numpy as np\n",
    "\n",
    "v_grad = float(input('Skriv inn gradtallet:' ))\n",
    "v_rad = v_grad*np.pi/180\n",
    "\n",
    "print(v_grad, \"grader tilsvarer\", v_rad, \"radianer\") \n"
   ]
  },
  {
   "cell_type": "code",
   "execution_count": 117,
   "id": "a666e20e-08c7-4da8-b32d-211d89184a0e",
   "metadata": {},
   "outputs": [
    {
     "name": "stdin",
     "output_type": "stream",
     "text": [
      "Skriv inn landet du ønsker info om hovedstad og innbyggertall:  England\n"
     ]
    },
    {
     "name": "stdout",
     "output_type": "stream",
     "text": [
      "London er hovedstaden i England med 8.982 millioner innbyggere\n"
     ]
    }
   ],
   "source": [
    "#Oppgave 4a+4b\n",
    "#Dictionary på forskjellige land med info om hovedstad og innbyggertall\n",
    "\n",
    "data = {\n",
    "        \"Norge\": [\"Oslo\", 0.634],\n",
    "        \"England\": [\"London\", 8.982],\n",
    "        \"Frankrike\": [\"Paris\", 2.161],\n",
    "        \"Italia\": [\"Roma\", 2.873]\n",
    "        }\n",
    "\n",
    "    \n",
    "\n",
    "Land = str(input(\"Skriv inn landet du ønsker info om hovedstad og innbyggertall: \"))\n",
    "print(data[Land][0],\"er hovedstaden i\", Land, \"med\", data[Land][1], \"millioner innbyggere.\")\n",
    "\n"
   ]
  },
  {
   "cell_type": "code",
   "execution_count": 196,
   "id": "3e132818-91bc-4fda-ae01-0c599c2b244a",
   "metadata": {},
   "outputs": [
    {
     "name": "stdin",
     "output_type": "stream",
     "text": [
      "Skriv inn landet du ønsker å legge til i dictionary:  Spania\n",
      "Skriv inn hovedstaden:  Madrid\n",
      "Skriv inn innbyggertallet (mill):  7\n"
     ]
    },
    {
     "name": "stdout",
     "output_type": "stream",
     "text": [
      "{'Norge': ['Oslo', 0.634], 'England': ['London', 8.982], 'Frankrike': ['Paris', 2.161], 'Italia': ['Roma', 2.873], 'Spania': ['Madrid', 7.0]}\n"
     ]
    }
   ],
   "source": [
    "#Oppgave 4C\n",
    "#Legge inn nytt land i dictionary og legge inn hovedstad og innbyggertall\n",
    "\n",
    "data = {\n",
    "        \"Norge\": [\"Oslo\", 0.634],\n",
    "        \"England\": [\"London\", 8.982],\n",
    "        \"Frankrike\": [\"Paris\", 2.161],\n",
    "        \"Italia\": [\"Roma\", 2.873]\n",
    "        }\n",
    "\n",
    "nyttland = str(input(\"Skriv inn landet du ønsker å legge til i dictionary: \"))\n",
    "hovedstad = str(input(\"Skriv inn hovedstaden: \"))\n",
    "innbyggertall = float(input(\"Skriv inn innbyggertallet (mill): \"))\n",
    "\n",
    "#Ny registrering av land i dictionary\n",
    "data[nyttland]=[hovedstad,innbyggertall]\n",
    "\n",
    "\n",
    "print(data)\n",
    "\n",
    "#%whos\n",
    "\n"
   ]
  },
  {
   "cell_type": "code",
   "execution_count": 165,
   "id": "6de209f9-6073-4db4-abc6-1c21fc1bff02",
   "metadata": {},
   "outputs": [
    {
     "name": "stdin",
     "output_type": "stream",
     "text": [
      "Skriv inn lengden av a:  4\n",
      "Skriv inn lengden av b:  8\n"
     ]
    },
    {
     "name": "stdout",
     "output_type": "stream",
     "text": [
      "Arealet for figuren er 41.132741228718345 og omkretsen er 29.51064252435833 .\n"
     ]
    }
   ],
   "source": [
    "#Oppgave 5\n",
    "#Programmet regner ut arealet og «ytre» omkrets til en figur satt sammen av en rettvinklet trekant og en halvsirkel\n",
    "\n",
    "import numpy as np\n",
    "\n",
    "#Funksjon som regner ut arealet for en sirkel\n",
    "\n",
    "def areal_sirkel(r):\n",
    "    a_s = np.pi*(r**2)\n",
    "    return a_s\n",
    "\n",
    "#Funksjon som regner ut omkretsen for en sirkel\n",
    "\n",
    "def omkrets_sirkel(r):\n",
    "    os = 2*np.pi*r\n",
    "    return os\n",
    "\n",
    "#Funksjon som regner ut arealet for en rettvinklet trekant\n",
    "\n",
    "def areal_trekant(g, h):\n",
    "    at = ((g*h)/2)\n",
    "    return at\n",
    "\n",
    "#Funksjon som regner ut omkretsen for en rettvinklet trekant\n",
    "\n",
    "def omkrets_trekant (a, b):\n",
    "    hypot = np.sqrt(a**2 + b**2)\n",
    "    ot = a + b + hypot\n",
    "    return ot\n",
    "    \n",
    "    \n",
    "a = float(input(\"Skriv inn lengden av a: \"))\n",
    "b = float(input(\"Skriv inn lengden av b: \")) \n",
    "\n",
    "#Areal for en halvsirkel\n",
    "areals = areal_sirkel(a)/2\n",
    "#print(areals)\n",
    "\n",
    "#Areal trekant\n",
    "arealt = areal_trekant(b,a)\n",
    "#print(arealt) \n",
    "\n",
    "#Omkretsen for halvssirkel\n",
    "omkretss = omkrets_sirkel(a)/2\n",
    "#print(omkretss)\n",
    "\n",
    "#Omkretsen for trekanten uten side a\n",
    "omkretst = omkrets_trekant (a, b)-a\n",
    "#print(omkretst)\n",
    "\n",
    "totalareal=areals+arealt\n",
    "totalomkrets=omkretss+omkretst\n",
    "\n",
    "print(\"Arealet for figuren er\",totalareal,\"og omkretsen er\",totalomkrets, \".\")\n"
   ]
  },
  {
   "cell_type": "code",
   "execution_count": 174,
   "id": "98c389ab-4fac-4f41-baff-3084fcc7970f",
   "metadata": {},
   "outputs": [
    {
     "data": {
      "text/plain": [
       "[<matplotlib.lines.Line2D at 0x1bc5732a7e0>]"
      ]
     },
     "execution_count": 174,
     "metadata": {},
     "output_type": "execute_result"
    },
    {
     "data": {
      "image/png": "[encoded data removed]",
      "text/plain": [
       "<Figure size 640x480 with 1 Axes>"
      ]
     },
     "metadata": {},
     "output_type": "display_data"
    }
   ],
   "source": [
    "#Oppgave 6\n",
    "#Programmet innholder en funksjon som plotter 𝑓(𝑥)=−𝑥^2−5, for x på intervallet [-10,10].\n",
    "\n",
    "import numpy as np\n",
    "import matplotlib.pyplot as plt\n",
    "\n",
    "\n",
    "#Funksjon som regner ut 𝑓(𝑥)=−𝑥^2−5\n",
    "\n",
    "def f(x):\n",
    "    y=-x**2-5\n",
    "    return y\n",
    "\n",
    "x = np.linspace(-10,10,200)\n",
    "#print(x)\n",
    "\n",
    "y=f(x)\n",
    "\n",
    "plt.plot(x,y)"
   ]
  },
  {
   "cell_type": "code",
   "execution_count": null,
   "id": "963d8b8a-2693-4b96-86f2-b41c8899ab68",
   "metadata": {},
   "outputs": [],
   "source": []
  }
 ],
 "metadata": {
  "kernelspec": {
   "display_name": "Python 3 (ipykernel)",
   "language": "python",
   "name": "python3"
  },
  "language_info": {
   "codemirror_mode": {
    "name": "ipython",
    "version": 3
   },
   "file_extension": ".py",
   "mimetype": "text/x-python",
   "name": "python",
   "nbconvert_exporter": "python",
   "pygments_lexer": "ipython3",
   "version": "3.12.7"
  }
 },
 "nbformat": 4,
 "nbformat_minor": 5
}
